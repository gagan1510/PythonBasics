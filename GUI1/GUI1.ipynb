{
 "cells": [
  {
   "cell_type": "code",
   "execution_count": null,
   "metadata": {},
   "outputs": [],
   "source": [
    "from __future__ import print_functionfrom ipywidgets import interact, interactive, fixedimport ipywidgets as widgetsdef f(x):return xinteract(f, x=10)"
   ]
  }
 ],
 "metadata": {
  "language": "python"
 },
 "nbformat": 4,
 "nbformat_minor": 2
}
